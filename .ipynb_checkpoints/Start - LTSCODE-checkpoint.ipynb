{
 "cells": [
  {
   "cell_type": "code",
   "execution_count": 4,
   "id": "ad8c1ce1",
   "metadata": {},
   "outputs": [
    {
     "name": "stdout",
     "output_type": "stream",
     "text": [
      "Hello World\n"
     ]
    }
   ],
   "source": [
    "print('Hello World')"
   ]
  },
  {
   "cell_type": "markdown",
   "id": "fc1b4883",
   "metadata": {},
   "source": [
    "## Exercícios Python_Let's Code"
   ]
  },
  {
   "cell_type": "markdown",
   "id": "39f14d78",
   "metadata": {},
   "source": [
    "#### 1) Faça um programa que peça ao usuário um número e imprima todos os números de um até o número que o usuário informar"
   ]
  },
  {
   "cell_type": "code",
   "execution_count": 8,
   "id": "c38f8470",
   "metadata": {},
   "outputs": [
    {
     "name": "stdout",
     "output_type": "stream",
     "text": [
      "Informe um número: 5\n",
      "1\n",
      "2\n",
      "3\n",
      "4\n",
      "5\n"
     ]
    }
   ],
   "source": [
    "contador = 1\n",
    "numero = input('Informe um número: ')\n",
    "#todo valor imputado pelo usuário será do tipo String.\n",
    "numero = int(numero)\n",
    "\n",
    "while (contador <= numero):\n",
    "    print(contador)\n",
    "    contador += 1"
   ]
  },
  {
   "cell_type": "markdown",
   "id": "84ab92ee",
   "metadata": {},
   "source": [
    "#### 2) Crie um programa que leia um valor qualquer e apresente uma mensagem dizendo em qual dos seguintes intervalos ([0,25], (25,50], (50,75], (75,100]) este valor se encontra. Caso o valor não esteja em nenhum destes intervalos, deverá ser impressa a mensagem “Fora de intervalo”."
   ]
  },
  {
   "cell_type": "code",
   "execution_count": null,
   "id": "99e02bd4",
   "metadata": {},
   "outputs": [],
   "source": [
    "entrada = float(input('Digite um valor: '))\n",
    "\n",
    "if (entrada >= 0 and entrada <= 25):\n",
    "    print('Saída: [0, 25]')\n",
    "elif (entrada > 25 and entrada <= 50):\n",
    "    print('Saída: (25, 50]')\n",
    "elif (entrada > 50 and entrada <= 75):\n",
    "    print('Saída: (50, 75]')\n",
    "elif (entrada > 75 and entrada <= 100):\n",
    "    print('Saída: (75, 100]')\n",
    "else:\n",
    "    print('Fora de intervalo')"
   ]
  },
  {
   "cell_type": "markdown",
   "id": "272f133d",
   "metadata": {},
   "source": [
    "#### 3) Crie uma função que recebe o valor do raio de um círculo como parâmetro e retorna o valor da área desse círculo. Lembrando que a área de círculo é dada pela equação: A = ℼ r^2."
   ]
  },
  {
   "cell_type": "code",
   "execution_count": 3,
   "id": "dcf2b5f2",
   "metadata": {},
   "outputs": [
    {
     "name": "stdout",
     "output_type": "stream",
     "text": [
      "Digite o valor do raio do círculo: 20\n",
      "A área da circunferência de raio 20.0 é 3947.84\n"
     ]
    }
   ],
   "source": [
    "import math\n",
    "\n",
    "def calcula_area_circulo():\n",
    "    raio_circulo = float(input('Digite o valor do raio do círculo: '))\n",
    "    area_circulo = (math.pi * raio_circulo) ** 2\n",
    "    \n",
    "    print(f'A área da circunferência de raio {raio_circulo} é {area_circulo:.2f}')\n",
    "\n",
    "calcula_area_circulo()\n",
    "    "
   ]
  },
  {
   "cell_type": "markdown",
   "id": "af56776e",
   "metadata": {},
   "source": [
    "#### 4) Faça um programa que peça 2 números inteiros e um número real, calcule e mostre:\n",
    "     a) o produto entre o dobro do primeiro e a metade do segundo.\n",
    "     b) a soma entre o triplo do primeiro e o terceiro.\n",
    "     c) o terceiro elevado ao cubo."
   ]
  },
  {
   "cell_type": "code",
   "execution_count": 8,
   "id": "cf797c7e",
   "metadata": {},
   "outputs": [
    {
     "name": "stdout",
     "output_type": "stream",
     "text": [
      "Informe um número inteiro: 20\n",
      "Informe outro número inteiro: 40\n",
      "Informe qualquer número: 6.5\n",
      "\n",
      "A primeira operação é: 800.0 \n",
      "A segunda operação é: 66.5 \n",
      "E a terceira operação é: 274.62\n"
     ]
    }
   ],
   "source": [
    "num_1 = int(input('Informe um número inteiro: '))\n",
    "num_2 = int(input('Informe outro número inteiro: '))\n",
    "num_3 = float(input('Informe qualquer número: '))\n",
    "\n",
    "def calcula_numeros():\n",
    "    op_1 = (2 * num_1) * (num_2 * 0.5)\n",
    "    op_2 = (3 * num_1) + (num_3)\n",
    "    op_3 = num_3 ** 3 \n",
    "    print(f'\\nA primeira operação é: {op_1} \\nA segunda operação é: {op_2} \\nE a terceira operação é: {op_3:.2f}')\n",
    "    \n",
    "calcula_numeros()\n",
    "\n"
   ]
  },
  {
   "cell_type": "markdown",
   "id": "5996c926",
   "metadata": {},
   "source": [
    "#### 5) Vamos fazer um programa para verificar quem é o assassino de um crime. Para descobrir o assassino, a polícia faz um pequeno questionário com 5 perguntas onde a resposta só pode ser sim ou não:\n",
    "    1. Mora perto da vítima?\n",
    "    2. Já trabalhou com a vítima?\n",
    "    3. Telefonou para a vítima?\n",
    "    4. Esteve no local do crime?\n",
    "    5. Devia para a vítima?\n",
    "###### Cada resposta sim dá um ponto para o suspeito. A polícia considera que os suspeitos com 5 pontos são os assassinos, com 4 a 3 pontos são cúmplices e 2 pontos são apenas suspeitos, necessitando de outras investigações. Valores abaixo de 2 são liberados. \n",
    "###### No seu programa, você deve fazer essas perguntas e, de acordo com as respostas do usuário, você vai informar como a polícia o considera."
   ]
  },
  {
   "cell_type": "code",
   "execution_count": 25,
   "id": "63cd9e01",
   "metadata": {},
   "outputs": [
    {
     "name": "stdout",
     "output_type": "stream",
     "text": [
      "Você mora perto da vítima? 1 - Sim ou 0 - Não \n",
      "0\n",
      "Você já trabalhou com a vítima? 1 - Sim ou 0 - Não \n",
      "1\n",
      "Você telefonou para a vítima? 1 - Sim ou 0 - Não \n",
      "1\n",
      "Você esteve no local do crime? 1 - Sim ou 0 - Não \n",
      "0\n",
      "Você devia algo à vítima? 1 - Sim ou 0 - Não \n",
      "0\n",
      "\n",
      "Suspeito\n"
     ]
    }
   ],
   "source": [
    "suspeito = []\n",
    "suspeito.append(input('Você mora perto da vítima? 1 - Sim ou 0 - Não \\n'))\n",
    "suspeito.append(input('Você já trabalhou com a vítima? 1 - Sim ou 0 - Não \\n'))\n",
    "suspeito.append(input('Você telefonou para a vítima? 1 - Sim ou 0 - Não \\n'))\n",
    "suspeito.append(input('Você esteve no local do crime? 1 - Sim ou 0 - Não \\n'))\n",
    "suspeito.append(input('Você devia algo à vítima? 1 - Sim ou 0 - Não \\n'))\n",
    "\n",
    "soma_suspeito = 0\n",
    "    \n",
    "for i in suspeito:\n",
    "     soma_suspeito += int(i)\n",
    "if (soma_suspeito < 2):\n",
    "     print('\\nLiberado')\n",
    "elif (soma_suspeito == 2):\n",
    "     print('\\nSuspeito')\n",
    "elif (3 <= soma_suspeito <= 4):\n",
    "     print('\\nCúmplice')\n",
    "elif (soma_suspeito == 5):\n",
    "     print('\\nAssasino')\n",
    "\n",
    "\n"
   ]
  },
  {
   "cell_type": "markdown",
   "id": "864abae3",
   "metadata": {},
   "source": [
    "#### 6) Faça uma função que recebe uma lista de números e retorna a soma dos elementos dessa lista."
   ]
  },
  {
   "cell_type": "code",
   "execution_count": 40,
   "id": "5c6561eb",
   "metadata": {},
   "outputs": [
    {
     "name": "stdout",
     "output_type": "stream",
     "text": [
      "[48, 31, 30, 28, 2, 42, 24, 5, 44, 0]\n",
      "A soma total desta lista é de: 254\n"
     ]
    }
   ],
   "source": [
    "def soma_numeros():\n",
    "    import random\n",
    "    gera_num = random.sample(range(50), 10)\n",
    "    print(gera_num)\n",
    "\n",
    "    soma_total = 0\n",
    "    \n",
    "    for i in gera_num:\n",
    "        soma_total += int(i)\n",
    "    print(f'A soma total desta lista é de: {soma_total}')\n",
    "\n",
    "    soma_numeros()\n",
    "    \n",
    "\n"
   ]
  },
  {
   "cell_type": "code",
   "execution_count": null,
   "id": "e65c7c10",
   "metadata": {},
   "outputs": [],
   "source": []
  }
 ],
 "metadata": {
  "kernelspec": {
   "display_name": "Python 3 (ipykernel)",
   "language": "python",
   "name": "python3"
  },
  "language_info": {
   "codemirror_mode": {
    "name": "ipython",
    "version": 3
   },
   "file_extension": ".py",
   "mimetype": "text/x-python",
   "name": "python",
   "nbconvert_exporter": "python",
   "pygments_lexer": "ipython3",
   "version": "3.9.0"
  }
 },
 "nbformat": 4,
 "nbformat_minor": 5
}
