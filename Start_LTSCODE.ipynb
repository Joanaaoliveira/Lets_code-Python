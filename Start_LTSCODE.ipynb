{
 "cells": [
  {
   "cell_type": "code",
   "execution_count": null,
   "id": "ad8c1ce1",
   "metadata": {},
   "outputs": [],
   "source": [
    "print('Hello World')"
   ]
  },
  {
   "cell_type": "markdown",
   "id": "fc1b4883",
   "metadata": {},
   "source": [
    "## Exercícios Python_Let's Code"
   ]
  },
  {
   "cell_type": "markdown",
   "id": "39f14d78",
   "metadata": {},
   "source": [
    "#### 1) Faça um programa que peça ao usuário um número e imprima todos os números de um até o número que o usuário informar"
   ]
  },
  {
   "cell_type": "code",
   "execution_count": null,
   "id": "c38f8470",
   "metadata": {},
   "outputs": [],
   "source": [
    "contador = 1\n",
    "numero = input('Informe um número: ')\n",
    "#todo valor imputado pelo usuário será do tipo String.\n",
    "numero = int(numero)\n",
    "\n",
    "while (contador <= numero):\n",
    "    print(contador)\n",
    "    contador += 1"
   ]
  },
  {
   "cell_type": "markdown",
   "id": "84ab92ee",
   "metadata": {},
   "source": [
    "#### 2) Crie um programa que leia um valor qualquer e apresente uma mensagem dizendo em qual dos seguintes intervalos ([0,25], (25,50], (50,75], (75,100]) este valor se encontra. Caso o valor não esteja em nenhum destes intervalos, deverá ser impressa a mensagem “Fora de intervalo”."
   ]
  },
  {
   "cell_type": "code",
   "execution_count": null,
   "id": "99e02bd4",
   "metadata": {},
   "outputs": [],
   "source": [
    "entrada = float(input('Digite um valor: '))\n",
    "\n",
    "if (entrada >= 0 and entrada <= 25):\n",
    "    print('Saída: [0, 25]')\n",
    "elif (entrada > 25 and entrada <= 50):\n",
    "    print('Saída: (25, 50]')\n",
    "elif (entrada > 50 and entrada <= 75):\n",
    "    print('Saída: (50, 75]')\n",
    "elif (entrada > 75 and entrada <= 100):\n",
    "    print('Saída: (75, 100]')\n",
    "else:\n",
    "    print('Fora de intervalo')"
   ]
  },
  {
   "cell_type": "markdown",
   "id": "272f133d",
   "metadata": {},
   "source": [
    "#### 3) Crie uma função que recebe o valor do raio de um círculo como parâmetro e retorna o valor da área desse círculo. Lembrando que a área de círculo é dada pela equação: A = ℼ r^2."
   ]
  },
  {
   "cell_type": "code",
   "execution_count": null,
   "id": "dcf2b5f2",
   "metadata": {},
   "outputs": [],
   "source": [
    "import math\n",
    "\n",
    "def calcula_area_circulo():\n",
    "    raio_circulo = float(input('Digite o valor do raio do círculo: '))\n",
    "    area_circulo = (math.pi * raio_circulo) ** 2\n",
    "    \n",
    "    print(f'A área da circunferência de raio {raio_circulo} é {area_circulo:.2f}')\n",
    "\n",
    "calcula_area_circulo()\n",
    "    "
   ]
  },
  {
   "cell_type": "markdown",
   "id": "af56776e",
   "metadata": {},
   "source": [
    "#### 4) Faça um programa que peça 2 números inteiros e um número real, calcule e mostre:\n",
    "     a) o produto entre o dobro do primeiro e a metade do segundo.\n",
    "     b) a soma entre o triplo do primeiro e o terceiro.\n",
    "     c) o terceiro elevado ao cubo."
   ]
  },
  {
   "cell_type": "code",
   "execution_count": null,
   "id": "cf797c7e",
   "metadata": {},
   "outputs": [],
   "source": [
    "num_1 = int(input('Informe um número inteiro: '))\n",
    "num_2 = int(input('Informe outro número inteiro: '))\n",
    "num_3 = float(input('Informe qualquer número: '))\n",
    "\n",
    "def calcula_numeros():\n",
    "    op_1 = (2 * num_1) * (num_2 * 0.5)\n",
    "    op_2 = (3 * num_1) + (num_3)\n",
    "    op_3 = num_3 ** 3 \n",
    "    print(f'\\nA primeira operação é: {op_1} \\nA segunda operação é: {op_2} \\nE a terceira operação é: {op_3:.2f}')\n",
    "    \n",
    "calcula_numeros()\n",
    "\n"
   ]
  },
  {
   "cell_type": "markdown",
   "id": "5996c926",
   "metadata": {},
   "source": [
    "#### 5) Vamos fazer um programa para verificar quem é o assassino de um crime. Para descobrir o assassino, a polícia faz um pequeno questionário com 5 perguntas onde a resposta só pode ser sim ou não:\n",
    "    1. Mora perto da vítima?\n",
    "    2. Já trabalhou com a vítima?\n",
    "    3. Telefonou para a vítima?\n",
    "    4. Esteve no local do crime?\n",
    "    5. Devia para a vítima?\n",
    "###### Cada resposta sim dá um ponto para o suspeito. A polícia considera que os suspeitos com 5 pontos são os assassinos, com 4 a 3 pontos são cúmplices e 2 pontos são apenas suspeitos, necessitando de outras investigações. Valores abaixo de 2 são liberados. \n",
    "###### No seu programa, você deve fazer essas perguntas e, de acordo com as respostas do usuário, você vai informar como a polícia o considera."
   ]
  },
  {
   "cell_type": "code",
   "execution_count": null,
   "id": "63cd9e01",
   "metadata": {},
   "outputs": [],
   "source": [
    "suspeito = []\n",
    "suspeito.append(input('Você mora perto da vítima? 1 - Sim ou 0 - Não \\n'))\n",
    "suspeito.append(input('Você já trabalhou com a vítima? 1 - Sim ou 0 - Não \\n'))\n",
    "suspeito.append(input('Você telefonou para a vítima? 1 - Sim ou 0 - Não \\n'))\n",
    "suspeito.append(input('Você esteve no local do crime? 1 - Sim ou 0 - Não \\n'))\n",
    "suspeito.append(input('Você devia algo à vítima? 1 - Sim ou 0 - Não \\n'))\n",
    "\n",
    "soma_suspeito = 0\n",
    "    \n",
    "for i in suspeito:\n",
    "     soma_suspeito += int(i)\n",
    "if (soma_suspeito < 2):\n",
    "     print('\\nLiberado')\n",
    "elif (soma_suspeito == 2):\n",
    "     print('\\nSuspeito')\n",
    "elif (3 <= soma_suspeito <= 4):\n",
    "     print('\\nCúmplice')\n",
    "elif (soma_suspeito == 5):\n",
    "     print('\\nAssasino')\n",
    "\n",
    "\n"
   ]
  },
  {
   "cell_type": "markdown",
   "id": "864abae3",
   "metadata": {},
   "source": [
    "#### 6) Faça uma função que recebe uma lista de números e retorna a soma dos elementos dessa lista."
   ]
  },
  {
   "cell_type": "code",
   "execution_count": null,
   "id": "5c6561eb",
   "metadata": {},
   "outputs": [],
   "source": [
    "def soma_numeros():\n",
    "    import random\n",
    "    gera_num = random.sample(range(50), 10)\n",
    "    print(gera_num)\n",
    "\n",
    "    soma_total = 0\n",
    "    \n",
    "    for i in gera_num:\n",
    "        soma_total += int(i)\n",
    "    print(f'A soma total desta lista é de: {soma_total}')\n",
    "\n",
    "soma_numeros()\n",
    "    \n",
    "\n"
   ]
  },
  {
   "cell_type": "markdown",
   "id": "bc98efe1",
   "metadata": {},
   "source": [
    "#### 7) Faça um programa que leia as coordenadas de 2 (dois) pontos em um plano cartesiano 2D: a coordenada x do primeiro ponto (x_1), a coordenada y do primeiro ponto (y_1), a coordenada x do segundo ponto (x_2) e a coordenada y do segundo ponto (y_2). Em seguida, calcule a distânciaeuclidiana entre os pontos, utilizando a equação abaixo:\n",
    "    𝑑 = (𝑥2 − 𝑥1)² + (𝑦2 − 𝑦1)²"
   ]
  },
  {
   "cell_type": "code",
   "execution_count": null,
   "id": "abe8121a",
   "metadata": {},
   "outputs": [],
   "source": [
    "def calcula_coordenadas():\n",
    "    x_1 = float(input('Digite o primeiro ponto X: \\n'))\n",
    "    y_1 = float(input('Digite o primeiro ponto Y: \\n'))\n",
    "    x_2 = float(input('Digite o segundo ponto X: \\n'))\n",
    "    y_2 = float(input('Digite o segundo ponto Y: \\n'))\n",
    "    \n",
    "    print(f'Os números digitados foram x1 = {x_1}, y1 = {y_1}, x2 = {x_2} e y2 = {y_2}')\n",
    "    \n",
    "    coordenada = (x_2 - x_1)**2 + (y_2 - y_1)**2\n",
    "    \n",
    "    print(f'A coordenada é: {coordenada}')\n",
    "    \n",
    "calcula_coordenadas()\n"
   ]
  },
  {
   "cell_type": "markdown",
   "id": "a121c0e2",
   "metadata": {},
   "source": [
    "#### 8) Calcule a soma de mil termos dos inversos dos fatoriais: 1/(1!) + 1/(2!) + 1/(3!) + 1/(4!) + ...\n",
    "    Dica: Use três variáveis:\n",
    "    ● um contador;\n",
    "    ● uma variável para soma;\n",
    "    ● e uma variável para os termos."
   ]
  },
  {
   "cell_type": "code",
   "execution_count": 29,
   "id": "87411105",
   "metadata": {},
   "outputs": [],
   "source": [
    "#from math import factorial\n",
    "\n",
    "#termos = range(1000)\n",
    "\n",
    "#def calcula_fatorial():\n",
    "#    for termo in termos:\n",
    "#        fatorial = 1/(factorial(termo))\n",
    "#        print(fatorial)\n",
    "        \n",
    "        \n",
    "#calcula_fatorial()    "
   ]
  },
  {
   "cell_type": "markdown",
   "id": "e039d8bc",
   "metadata": {},
   "source": [
    "#### 9) Crie (manualmente ou sorteando os números) uma lista de 10 números e imprima:\n",
    "    1. uma lista com os 4 primeiros números;\n",
    "    2. uma lista com os 5 últimos números;\n",
    "    3. uma lista contendo apenas os elementos das posições pares;\n",
    "    4. uma lista contendo apenas os elementos das posições ímpares;\n",
    "    5. a lista inversa da lista sorteada (isto é, uma lista que começa com o último elemento da\n",
    "#### lista sorteada e termina com o primeiro;\n",
    "    6. uma lista inversa dos 5 primeiros números;\n",
    "    7. uma lista inversa dos 5 últimos números."
   ]
  },
  {
   "cell_type": "code",
   "execution_count": 152,
   "id": "21683fe4",
   "metadata": {},
   "outputs": [
    {
     "name": "stdout",
     "output_type": "stream",
     "text": [
      "[22, 0, 47, 27, 16, 3, 48, 5, 2, 49] <class 'list'>\n",
      "[22, 0, 47, 27]\n",
      "[3, 48, 5, 2, 49]\n",
      "[22] [0] [16] [48] [2] [47] [27] [3] [5] [49] \n",
      " [49, 2, 5, 48, 3, 16, 27, 47, 0, 22]\n"
     ]
    }
   ],
   "source": [
    "import random\n",
    "lista_numeros = random.sample(range(50), 10)\n",
    "print(lista_numeros, type(lista_numeros))\n",
    "print(lista_numeros[:4])\n",
    "print(lista_numeros[5:])\n",
    "\n",
    "# Descobrir como/melhor forma de tornar isso em lista única  \n",
    "\n",
    "def calcula_pares():\n",
    "    for numero in lista_numeros:\n",
    "        lista_pares = []\n",
    "        if numero % 2 != 0:\n",
    "            numero += 1\n",
    "        else:\n",
    "            lista_pares.append(numero)\n",
    "            print(lista_pares, end = ' ')\n",
    "        \n",
    "calcula_pares()\n",
    "        \n",
    "# Descobrir como/melhor forma de tornar isso em lista e vizualização        \n",
    "def calcula_impares():\n",
    "    for numero in lista_numeros:\n",
    "        lista = []\n",
    "        if numero % 2 == 0:\n",
    "            numero += 1\n",
    "        else:\n",
    "            lista.append(numero)\n",
    "            print(lista, end = ' ')\n",
    "\n",
    "calcula_impares()\n",
    "        \n",
    "print('\\n',lista_numeros[::-1])\n"
   ]
  },
  {
   "cell_type": "code",
   "execution_count": null,
   "id": "d849c99b",
   "metadata": {},
   "outputs": [],
   "source": []
  }
 ],
 "metadata": {
  "kernelspec": {
   "display_name": "Python 3 (ipykernel)",
   "language": "python",
   "name": "python3"
  },
  "language_info": {
   "codemirror_mode": {
    "name": "ipython",
    "version": 3
   },
   "file_extension": ".py",
   "mimetype": "text/x-python",
   "name": "python",
   "nbconvert_exporter": "python",
   "pygments_lexer": "ipython3",
   "version": "3.9.0"
  }
 },
 "nbformat": 4,
 "nbformat_minor": 5
}
