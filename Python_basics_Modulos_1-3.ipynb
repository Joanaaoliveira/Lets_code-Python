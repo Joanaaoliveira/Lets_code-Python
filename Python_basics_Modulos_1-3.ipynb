{
 "cells": [
  {
   "cell_type": "markdown",
   "id": "7ee3b357",
   "metadata": {},
   "source": [
    "## Exercícios Python Basics - Módulos 1-3"
   ]
  },
  {
   "cell_type": "markdown",
   "id": "a4fdf0dc",
   "metadata": {},
   "source": [
    "#### 1. Faça um programa que peça um valor monetário e diminua-o em 15%. Seu  programa deve imprimir a mensagem “O novo valor é [valor]”."
   ]
  },
  {
   "cell_type": "code",
   "execution_count": null,
   "id": "7bec83a1",
   "metadata": {},
   "outputs": [],
   "source": [
    "valor = float(input('Insira um valor monetário: '))\n",
    "total = valor - (valor * 0.15)\n",
    "\n",
    "print(f'O novo valor é {total}')"
   ]
  },
  {
   "cell_type": "markdown",
   "id": "c04d96eb",
   "metadata": {},
   "source": [
    "#### 2. Faça um programa que leia a validade das informações:\n",
    "    a. Idade: entre 0 e 150;\n",
    "    b. Salário: maior que 0;\n",
    "    c. Sexo: M, F ou Outro;\n",
    "#### O programa deve imprimir uma mensagem de erro para cada informação inválida."
   ]
  },
  {
   "cell_type": "code",
   "execution_count": null,
   "id": "056d19a1",
   "metadata": {},
   "outputs": [],
   "source": [
    "idade = int(input('Informe a idade: '))\n",
    "while (idade < 0) or (idade > 150):\n",
    "    idade = int(input('A idade não pode ser menor que 0 ou maior que 150.\\nTente novamente:'))\n",
    "print('Idade confirmada')\n",
    "\n",
    "salario = float(input('Informe o salário: '))\n",
    "while (salario <= 0):\n",
    "    salario = float(input('O salário informado precisa ser maior que 0.\\nTente novamente:'))\n",
    "print('Salário confirmado')\n",
    "\n",
    "genero = input('Qual é o genero (F - Feminino), (M - Masculino) ou (O - Outros) ')\n",
    "while (genero != 'M') and (genero != 'F') and (genero != 'O'):\n",
    "    genero = (input('Opção inválida.\\nTente novamente:')).upper()\n",
    "## verificar maneira de validar strings maiúsculas e minusculas sem precisar transformar o input em maiusculo\n",
    "#  (upper --> bom para padronizações)\n",
    "\n",
    "print('Formulário preenchido com sucesso')\n"
   ]
  },
  {
   "cell_type": "code",
   "execution_count": null,
   "id": "dae9bcea",
   "metadata": {},
   "outputs": [],
   "source": [
    "genero"
   ]
  },
  {
   "cell_type": "code",
   "execution_count": null,
   "id": "d2929df1",
   "metadata": {},
   "outputs": [],
   "source": []
  },
  {
   "cell_type": "code",
   "execution_count": null,
   "id": "e42822d0",
   "metadata": {},
   "outputs": [],
   "source": []
  }
 ],
 "metadata": {
  "kernelspec": {
   "display_name": "Python 3 (ipykernel)",
   "language": "python",
   "name": "python3"
  },
  "language_info": {
   "codemirror_mode": {
    "name": "ipython",
    "version": 3
   },
   "file_extension": ".py",
   "mimetype": "text/x-python",
   "name": "python",
   "nbconvert_exporter": "python",
   "pygments_lexer": "ipython3",
   "version": "3.9.0"
  }
 },
 "nbformat": 4,
 "nbformat_minor": 5
}
